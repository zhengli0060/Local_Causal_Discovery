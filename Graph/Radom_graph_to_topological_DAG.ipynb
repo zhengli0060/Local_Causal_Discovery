{
 "cells": [
  {
   "cell_type": "markdown",
   "id": "4c7241da",
   "metadata": {},
   "source": [
    "**Randomly generate a directed acyclic graph (DAG) using the Erdos_Renyi model.**"
   ]
  },
  {
   "cell_type": "code",
   "execution_count": null,
   "id": "a2634721",
   "metadata": {},
   "outputs": [
    {
     "name": "stdout",
     "output_type": "stream",
     "text": [
      "original graph:\n",
      " [[0 0 0 0 0 0 0 0 1 0 0 0 1 0 0 1 1 0 1 1]\n",
      " [0 0 1 0 0 0 0 1 0 1 0 1 0 0 0 0 0 0 0 0]\n",
      " [0 0 0 0 0 0 0 0 0 1 0 0 0 0 0 0 1 0 0 0]\n",
      " [0 0 0 0 0 0 0 0 0 0 0 0 0 0 0 1 0 0 0 1]\n",
      " [0 0 0 0 0 0 1 1 0 0 0 0 0 1 1 1 0 0 0 0]\n",
      " [0 0 0 0 0 0 0 1 0 0 0 1 0 0 0 1 0 0 1 0]\n",
      " [0 0 0 0 0 0 0 0 1 0 0 0 0 0 1 0 0 0 0 0]\n",
      " [0 0 0 0 0 0 0 0 0 0 0 0 0 0 0 0 0 1 0 0]\n",
      " [0 0 0 0 0 0 0 0 0 1 0 0 0 0 0 0 0 0 0 1]\n",
      " [0 0 0 0 0 0 0 0 0 0 0 0 0 0 0 0 1 0 0 0]\n",
      " [0 0 0 0 0 0 0 0 0 0 0 1 0 1 0 0 0 0 0 1]\n",
      " [0 0 0 0 0 0 0 0 0 0 0 0 0 0 0 0 1 0 0 0]\n",
      " [0 0 0 0 0 0 0 0 0 0 0 0 0 0 0 0 0 0 0 1]\n",
      " [0 0 0 0 0 0 0 0 0 0 0 0 0 0 0 0 0 0 0 0]\n",
      " [0 0 0 0 0 0 0 0 0 0 0 0 0 0 0 0 0 0 1 0]\n",
      " [0 0 0 0 0 0 0 0 0 0 0 0 0 0 0 0 0 0 0 1]\n",
      " [0 0 0 0 0 0 0 0 0 0 0 0 0 0 0 0 0 1 1 0]\n",
      " [0 0 0 0 0 0 0 0 0 0 0 0 0 0 0 0 0 0 1 0]\n",
      " [0 0 0 0 0 0 0 0 0 0 0 0 0 0 0 0 0 0 0 0]\n",
      " [0 0 0 0 0 0 0 0 0 0 0 0 0 0 0 0 0 0 0 0]]\n"
     ]
    }
   ],
   "source": [
    "from Random_Graph import ErdosRenyi\n",
    "\n",
    "num_nodes = 20\n",
    "average_degree = 5 # means that on average each node is connected to 5 other nodes\n",
    "p_edge = 0.2 # means there is a 20% chance of an edge between any two nodes\n",
    "generator = ErdosRenyi(\n",
    "        # num_nodes=num_nodes,  expected_degree=average_degree     \n",
    "        num_nodes=num_nodes, p_edge=p_edge\n",
    "    )\n",
    "\n",
    "Adj_matrix = generator.get_random_graph()  # np.array of shape (num_nodes, num_nodes)\n",
    "\n",
    "# Adj_matrix[i, j] = 1 means there is an edge from node i to node j\n",
    "\n",
    "print(f\"original graph:\\n {Adj_matrix}\")\n",
    "\n"
   ]
  },
  {
   "cell_type": "markdown",
   "id": "4804ec47",
   "metadata": {},
   "source": [
    "**Calculate the average degree of the adjacency matrix.**"
   ]
  },
  {
   "cell_type": "code",
   "execution_count": null,
   "id": "f0fd8e9f",
   "metadata": {},
   "outputs": [
    {
     "name": "stdout",
     "output_type": "stream",
     "text": [
      "Neighbor Average Degree (per node): {0: 4.666666666666667, 1: 3.75, 2: 4.666666666666667, 3: 5.5, 4: 3.4, 5: 4.5, 6: 4.0, 7: 4.0, 8: 4.75, 9: 4.25, 10: 4.0, 11: 4.25, 12: 6.0, 13: 4.0, 14: 4.333333333333333, 15: 4.6, 16: 4.166666666666667, 17: 5.0, 18: 4.4, 19: 3.6666666666666665}\n",
      "Overall Average Neighbor Degree: 4.3950000000000005\n"
     ]
    }
   ],
   "source": [
    "from networkx.algorithms.assortativity.connectivity import average_degree_connectivity\n",
    "import networkx as nx\n",
    "import numpy as np\n",
    "\n",
    "\n",
    "# num = Adj_matrix.shape[0]\n",
    "# G = nx.Graph()  \n",
    "# G.add_nodes_from(range(num))\n",
    "# for i in range(num):\n",
    "#     for j in range(i + 1, num):\n",
    "#         if Adj_matrix[i][j] != 0:\n",
    "#             G.add_edge(i, j)\n",
    "\n",
    "# Convert the adjacency matrix to a NetworkX graph\n",
    "G = nx.from_numpy_array(Adj_matrix)\n",
    "\n",
    "# Calculate the average degree of neighbors for each node\n",
    "neighbor_avg_degree = nx.average_neighbor_degree(G)\n",
    "\n",
    "# Print the average degree of neighbors for each node\n",
    "print(\"Neighbor Average Degree (per node):\", neighbor_avg_degree)\n",
    "\n",
    "# Calculate the overall average degree of neighbors for the graph\n",
    "overall_avg_neighbor_degree = np.mean(list(neighbor_avg_degree.values()))\n",
    "print(\"Overall Average Neighbor Degree:\", overall_avg_neighbor_degree)\n"
   ]
  },
  {
   "cell_type": "markdown",
   "id": "a637bd2a",
   "metadata": {},
   "source": [
    "**Save the adjacency matrix**"
   ]
  },
  {
   "cell_type": "code",
   "execution_count": null,
   "id": "32b7838e",
   "metadata": {},
   "outputs": [],
   "source": [
    "import os\n",
    "import pandas as pd\n",
    "# 将邻接矩阵转换成pd的格式，并且给它的列和行都加上索引，索引为V1, V2, V3, ..., Vn\n",
    "Adj_matrix_df = pd.DataFrame(Adj_matrix, index=[f'V{i+1}' for i in range(num_nodes)], columns=[f'V{i+1}' for i in range(num_nodes)])\n",
    "\n",
    "adjacency_matrix_path = os.path.join(r'data_bif', f'random_graph_{num_nodes}.csv')\n",
    "Adj_matrix_df.to_csv(adjacency_matrix_path, index=True, header=True) # index=True indicates to save the index(line names), header=True indicates to save the column names\n",
    "\n",
    "# read the CSV file and print the DataFrame\n",
    "load_path = os.path.join(r'data_bif', f'random_graph_{num_nodes}.csv')\n",
    "df = pd.read_csv(load_path, index_col=0)  # index_col=0 indicates the first column is the index\n",
    "# print(df)"
   ]
  }
 ],
 "metadata": {
  "kernelspec": {
   "display_name": "python3_12",
   "language": "python",
   "name": "python3"
  },
  "language_info": {
   "codemirror_mode": {
    "name": "ipython",
    "version": 3
   },
   "file_extension": ".py",
   "mimetype": "text/x-python",
   "name": "python",
   "nbconvert_exporter": "python",
   "pygments_lexer": "ipython3",
   "version": "3.12.5"
  }
 },
 "nbformat": 4,
 "nbformat_minor": 5
}
