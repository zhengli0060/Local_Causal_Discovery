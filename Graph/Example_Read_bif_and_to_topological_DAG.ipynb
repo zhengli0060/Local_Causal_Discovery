{
 "cells": [
  {
   "cell_type": "markdown",
   "id": "68a27afe",
   "metadata": {},
   "source": [
    "# Reading .bif Files\n",
    "The `.bif` files (Bayesian Interchange Format) used in this notebook are discrete Bayesian network models sourced from the [bnlearn repository](https://www.bnlearn.com/bnrepository/)."
   ]
  },
  {
   "cell_type": "code",
   "execution_count": 1,
   "id": "60fa691e",
   "metadata": {},
   "outputs": [],
   "source": [
    "import bnlearn as bn\n",
    "# Name: pgmpy\n",
    "# Version: 0.1.19\n",
    "# Name: bnlearn\n",
    "# Version: 0.10.2\n",
    "\n",
    "# your .bif file path, modify according to the file path\n",
    "DAG_name = 'asia'\n",
    "bif_file = f'data_bif/{DAG_name}.bif'\n",
    "# use bnlearn to import the DAG from the .bif file\n",
    "model = bn.import_DAG(bif_file,verbose=0)\n",
    "adj_matrix = model['adjmat']   # DataFrame, Adjacency matrix\n",
    "node_list = model['model'].nodes()  # List, node list\n",
    "\n",
    "# plot the DAG\n",
    "# bn.plot(model)"
   ]
  },
  {
   "cell_type": "code",
   "execution_count": null,
   "id": "76f26d4c",
   "metadata": {},
   "outputs": [
    {
     "name": "stdout",
     "output_type": "stream",
     "text": [
      "Nodes in the Bayesian Network:\n",
      "Node List: ['asia', 'tub', 'smoke', 'lung', 'bronc', 'either', 'xray', 'dysp']\n",
      "\n",
      "Edges in the Bayesian Network:\n",
      "Edge List: [('asia', 'tub'), ('tub', 'either'), ('smoke', 'lung'), ('smoke', 'bronc'), ('lung', 'either'), ('bronc', 'dysp'), ('either', 'xray'), ('either', 'dysp')]\n",
      "\n",
      "Adjacency Matrix Information:\n",
      "Type: <class 'pandas.core.frame.DataFrame'>\n",
      "Shape: (8, 8)\n",
      "Adjacency Matrix:\n",
      "target   asia    tub  smoke   lung  bronc  either   xray   dysp\n",
      "source                                                         \n",
      "asia    False   True  False  False  False   False  False  False\n",
      "tub     False  False  False  False  False    True  False  False\n",
      "smoke   False  False  False   True   True   False  False  False\n",
      "lung    False  False  False  False  False    True  False  False\n",
      "bronc   False  False  False  False  False   False  False   True\n",
      "either  False  False  False  False  False   False   True   True\n",
      "xray    False  False  False  False  False   False  False  False\n",
      "dysp    False  False  False  False  False   False  False  False\n",
      "   asia  tub  smoke  lung  bronc  either  xray  dysp\n",
      "0     1    1      1     1      1       1     1     1\n",
      "1     1    1      1     1      1       1     1     1\n",
      "2     1    1      1     1      0       1     0     0\n",
      "3     1    1      0     1      1       1     1     1\n",
      "4     1    1      1     1      1       1     1     1\n"
     ]
    }
   ],
   "source": [
    "print(\"Nodes in the Bayesian Network:\")\n",
    "print(f\"Node List: {list(model['model'].nodes())}\\n\")\n",
    "\n",
    "print(\"Edges in the Bayesian Network:\")\n",
    "print(f\"Edge List: {list(model['model'].edges())}\\n\")\n",
    "\n",
    "print(\"Adjacency Matrix Information:\")\n",
    "print(f\"Type: {type(adj_matrix)}\")\n",
    "print(f\"Shape: {adj_matrix.shape}\")\n",
    "print(f\"Adjacency Matrix:\\n{adj_matrix}\")\n",
    "\n",
    "\"\"\"\n",
    "Use the bnlearn package to sample data from the DAG.\n",
    "\"\"\"\n",
    "num_samples = 100\n",
    "data_sample = bn.sampling(model, n=num_samples,verbose=0)\n",
    "print(data_sample.head())"
   ]
  },
  {
   "cell_type": "markdown",
   "id": "1634bf60",
   "metadata": {},
   "source": [
    "# Reordering the Adjacency Matrix\n",
    "The adjacency matrix is rearranged based on the topological order of the nodes."
   ]
  },
  {
   "cell_type": "code",
   "execution_count": 4,
   "id": "f8f42401",
   "metadata": {},
   "outputs": [
    {
     "name": "stdout",
     "output_type": "stream",
     "text": [
      "topological_order:['asia', 'smoke', 'tub', 'lung', 'bronc', 'either', 'xray', 'dysp']\n",
      "adj_matrix:\n",
      " target   asia    tub  smoke   lung  bronc  either   xray   dysp\n",
      "source                                                         \n",
      "asia    False   True  False  False  False   False  False  False\n",
      "tub     False  False  False  False  False    True  False  False\n",
      "smoke   False  False  False   True   True   False  False  False\n",
      "lung    False  False  False  False  False    True  False  False\n",
      "bronc   False  False  False  False  False   False  False   True\n",
      "either  False  False  False  False  False   False   True   True\n",
      "xray    False  False  False  False  False   False  False  False\n",
      "dysp    False  False  False  False  False   False  False  False,\n",
      " type(adj_matrix):<class 'pandas.core.frame.DataFrame'>\n",
      "order_adjacency_matrix:\n",
      " target   asia  smoke    tub   lung  bronc  either   xray   dysp\n",
      "source                                                         \n",
      "asia    False  False   True  False  False   False  False  False\n",
      "smoke   False  False  False   True   True   False  False  False\n",
      "tub     False  False  False  False  False    True  False  False\n",
      "lung    False  False  False  False  False    True  False  False\n",
      "bronc   False  False  False  False  False   False  False   True\n",
      "either  False  False  False  False  False   False   True   True\n",
      "xray    False  False  False  False  False   False  False  False\n",
      "dysp    False  False  False  False  False   False  False  False,\n",
      " type(order_adjacency_matrix):<class 'pandas.core.frame.DataFrame'>\n"
     ]
    }
   ],
   "source": [
    "import networkx as nx\n",
    "import pandas as pd\n",
    "\n",
    "# create the nx.DiGraph object base on the above DAG adjacency matrix and node list\n",
    "DAG = nx.DiGraph()\n",
    "DAG.add_nodes_from(node_list)  \n",
    "for source in node_list:\n",
    "    for target in node_list:\n",
    "        if adj_matrix.loc[source, target] == True:\n",
    "            DAG.add_edge(source, target)\n",
    "\n",
    "# get the topological order of the DAG\n",
    "topological_order = list(nx.topological_sort(DAG))\n",
    "print(f'topological_order:{topological_order}')\n",
    "\n",
    "print(f\"adj_matrix:\\n {adj_matrix},\\n type(adj_matrix):{type(adj_matrix)}\")\n",
    "\n",
    "# rearrange the adjacency matrix according to the topological order\n",
    "order_adjacency_matrix = adj_matrix.loc[topological_order, topological_order]\n",
    "print(f\"order_adjacency_matrix:\\n {order_adjacency_matrix},\\n type(order_adjacency_matrix):{type(order_adjacency_matrix)}\")\n"
   ]
  },
  {
   "cell_type": "markdown",
   "id": "f20ae7b2",
   "metadata": {},
   "source": [
    "# Saving and Loading the Results\n",
    "The reordered adjacency matrix is saved as a CSV file for further use. The saved file is then reloaded to verify its contents."
   ]
  },
  {
   "cell_type": "code",
   "execution_count": 5,
   "id": "b26d61b9",
   "metadata": {},
   "outputs": [],
   "source": [
    "import os\n",
    "# save the reordered adjacency matrix to a CSV file\n",
    "save_path = os.path.join(r'data_bif', f'{DAG_name}_graph.csv')\n",
    "order_adjacency_matrix.to_csv(save_path, index=True, header=True) # index=True indicates to save the index(line names), header=True indicates to save the column names\n",
    "\n",
    "# read the CSV file and print the DataFrame\n",
    "load_path = os.path.join(r'data_bif', f'{DAG_name}_graph.csv')\n",
    "df = pd.read_csv(load_path, index_col=0)  # index_col=0 indicates the first column is the index\n",
    "# print(df)"
   ]
  }
 ],
 "metadata": {
  "kernelspec": {
   "display_name": "python3_12",
   "language": "python",
   "name": "python3"
  },
  "language_info": {
   "codemirror_mode": {
    "name": "ipython",
    "version": 3
   },
   "file_extension": ".py",
   "mimetype": "text/x-python",
   "name": "python",
   "nbconvert_exporter": "python",
   "pygments_lexer": "ipython3",
   "version": "3.12.5"
  }
 },
 "nbformat": 4,
 "nbformat_minor": 5
}
