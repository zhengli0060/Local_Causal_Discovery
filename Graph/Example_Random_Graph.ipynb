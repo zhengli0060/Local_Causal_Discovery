{
 "cells": [
  {
   "cell_type": "markdown",
   "id": "4c7241da",
   "metadata": {},
   "source": [
    "### **Randomly generate a directed acyclic graph (DAG) using the Erdos_Renyi model.**"
   ]
  },
  {
   "cell_type": "code",
   "execution_count": 4,
   "id": "a2634721",
   "metadata": {},
   "outputs": [
    {
     "name": "stdout",
     "output_type": "stream",
     "text": [
      "original graph:\n",
      " [[0 0 1 1 1 0 0 0 0 0]\n",
      " [0 0 0 0 1 0 1 0 0 0]\n",
      " [0 0 0 0 0 0 1 0 0 1]\n",
      " [0 0 0 0 0 0 0 1 1 0]\n",
      " [0 0 0 0 0 1 0 0 0 0]\n",
      " [0 0 0 0 0 0 1 1 0 1]\n",
      " [0 0 0 0 0 0 0 0 1 0]\n",
      " [0 0 0 0 0 0 0 0 0 1]\n",
      " [0 0 0 0 0 0 0 0 0 0]\n",
      " [0 0 0 0 0 0 0 0 0 0]]\n"
     ]
    }
   ],
   "source": [
    "from Random_Graph import ErdosRenyi\n",
    "\n",
    "num_nodes = 10\n",
    "average_degree = 3 # means that on average each node is connected to 5 other nodes\n",
    "p_edge = 0.2 # means there is a 20% chance of an edge between any two nodes\n",
    "generator = ErdosRenyi(\n",
    "        num_nodes=num_nodes,  expected_degree=average_degree, def_topological_order = True   \n",
    "        # num_nodes=num_nodes, p_edge=p_edge\n",
    "        \n",
    "    )\n",
    "\n",
    "Adj_matrix = generator.get_random_graph()  # np.array of shape (num_nodes, num_nodes)\n",
    "\n",
    "# Adj_matrix[i, j] = 1 means there is an edge from node i to node j\n",
    "\n",
    "print(f\"original graph:\\n {Adj_matrix}\")\n",
    "\n"
   ]
  },
  {
   "cell_type": "markdown",
   "id": "4804ec47",
   "metadata": {},
   "source": [
    "### **Calculate the average degree of the adjacency matrix.**"
   ]
  },
  {
   "cell_type": "code",
   "execution_count": 8,
   "id": "f0fd8e9f",
   "metadata": {},
   "outputs": [
    {
     "name": "stdout",
     "output_type": "stream",
     "text": [
      "Neighbor Average Degree (per node): {0: 3.0, 1: 3.5, 2: 3.3333333333333335, 3: 2.6666666666666665, 4: 3.0, 5: 3.25, 6: 2.75, 7: 3.3333333333333335, 8: 3.5, 9: 3.3333333333333335}\n",
      "Overall Average Neighbor Degree: 3.166666666666667\n"
     ]
    }
   ],
   "source": [
    "from networkx.algorithms.assortativity.connectivity import average_degree_connectivity\n",
    "import networkx as nx\n",
    "import numpy as np\n",
    "\n",
    "\n",
    "# num = Adj_matrix.shape[0]\n",
    "# G = nx.Graph()  \n",
    "# G.add_nodes_from(range(num))\n",
    "# for i in range(num):\n",
    "#     for j in range(i + 1, num):\n",
    "#         if Adj_matrix[i][j] != 0:\n",
    "#             G.add_edge(i, j)\n",
    "\n",
    "# Convert the adjacency matrix to a NetworkX graph\n",
    "G = nx.from_numpy_array(Adj_matrix)\n",
    "\n",
    "# Calculate the average degree of neighbors for each node\n",
    "neighbor_avg_degree = nx.average_neighbor_degree(G)\n",
    "\n",
    "# Print the average degree of neighbors for each node\n",
    "print(\"Neighbor Average Degree (per node):\", neighbor_avg_degree)\n",
    "\n",
    "# Calculate the overall average degree of neighbors for the graph\n",
    "overall_avg_neighbor_degree = np.mean(list(neighbor_avg_degree.values()))\n",
    "print(\"Overall Average Neighbor Degree:\", overall_avg_neighbor_degree)\n"
   ]
  },
  {
   "cell_type": "markdown",
   "id": "a637bd2a",
   "metadata": {},
   "source": [
    "### **Save the adjacency matrix**"
   ]
  },
  {
   "cell_type": "code",
   "execution_count": 5,
   "id": "32b7838e",
   "metadata": {},
   "outputs": [],
   "source": [
    "import os\n",
    "import pandas as pd\n",
    "# Convert the adjacency matrix into a pandas DataFrame and assign indices to its rows and columns, labeled as V1, V2, V3, ..., Vn\n",
    "Adj_matrix_df = pd.DataFrame(Adj_matrix, index=[f'V{i+1}' for i in range(num_nodes)], columns=[f'V{i+1}' for i in range(num_nodes)])\n",
    "\n",
    "adjacency_matrix_path = os.path.join(r'data_bif', f'random_graph_{num_nodes}.csv')\n",
    "Adj_matrix_df.to_csv(adjacency_matrix_path, index=True, header=True) # index=True indicates to save the index(line names), header=True indicates to save the column names\n",
    "\n",
    "# read the CSV file and print the DataFrame\n",
    "load_path = os.path.join(r'data_bif', f'random_graph_{num_nodes}.csv')\n",
    "df = pd.read_csv(load_path, index_col=0)  # index_col=0 indicates the first column is the index\n",
    "# print(df)"
   ]
  },
  {
   "cell_type": "markdown",
   "id": "8a6d5e9b",
   "metadata": {},
   "source": [
    "### **Convert an adjacency matrix without topological sorting into one with topological sorting**"
   ]
  },
  {
   "cell_type": "code",
   "execution_count": null,
   "id": "4dad0e4b",
   "metadata": {},
   "outputs": [
    {
     "name": "stdout",
     "output_type": "stream",
     "text": [
      "     V2  V1  V8  V7  V5  V4  V9  V6  V10  V3\n",
      "V4    0   0   1   0   0   0   1   0    0   0\n",
      "V1    0   0   0   0   1   1   0   0    0   1\n",
      "V5    0   0   0   0   0   0   0   1    0   0\n",
      "V2    0   0   0   1   1   0   0   0    0   0\n",
      "V9    0   0   0   0   0   0   0   0    0   0\n",
      "V8    0   0   0   0   0   0   0   0    1   0\n",
      "V10   0   0   0   0   0   0   0   0    0   0\n",
      "V3    0   0   0   1   0   0   0   0    1   0\n",
      "V7    0   0   0   0   0   0   1   0    0   0\n",
      "V6    0   0   1   1   0   0   0   0    1   0\n",
      "topological_order:['V1', 'V2', 'V4', 'V3', 'V5', 'V6', 'V8', 'V7', 'V10', 'V9']\n",
      "order_adjacency_matrix:\n",
      "      V1  V2  V4  V3  V5  V6  V8  V7  V10  V9\n",
      "V1    0   0   1   1   1   0   0   0    0   0\n",
      "V2    0   0   0   0   1   0   0   1    0   0\n",
      "V4    0   0   0   0   0   0   1   0    0   1\n",
      "V3    0   0   0   0   0   0   0   1    1   0\n",
      "V5    0   0   0   0   0   1   0   0    0   0\n",
      "V6    0   0   0   0   0   0   1   1    1   0\n",
      "V8    0   0   0   0   0   0   0   0    1   0\n",
      "V7    0   0   0   0   0   0   0   0    0   1\n",
      "V10   0   0   0   0   0   0   0   0    0   0\n",
      "V9    0   0   0   0   0   0   0   0    0   0,\n",
      " type(order_adjacency_matrix):<class 'pandas.core.frame.DataFrame'>\n"
     ]
    }
   ],
   "source": [
    "import numpy as np\n",
    "import networkx as nx\n",
    "\n",
    "# Randomly shuffle the rows\n",
    "shuffled_rows = np.random.permutation(Adj_matrix_df.index)\n",
    "Adj_matrix_df = Adj_matrix_df.loc[shuffled_rows]\n",
    "\n",
    "# Randomly shuffle the columns\n",
    "shuffled_cols = np.random.permutation(Adj_matrix_df.columns)\n",
    "Adj_matrix_df = Adj_matrix_df[shuffled_cols]\n",
    "\n",
    "print(Adj_matrix_df)\n",
    "\n",
    "node_list = Adj_matrix_df.index.tolist()  # get the node list from the index of the DataFrame\n",
    "# create the nx.DiGraph object base on the above DAG adjacency matrix and node list\n",
    "DAG = nx.DiGraph()\n",
    "DAG.add_nodes_from(node_list)  \n",
    "for source in node_list:\n",
    "    for target in node_list:\n",
    "        if Adj_matrix_df.loc[source, target] == True:\n",
    "            DAG.add_edge(source, target)\n",
    "\n",
    "# get the topological order of the DAG\n",
    "topological_order = list(nx.topological_sort(DAG))\n",
    "print(f'topological_order:{topological_order}')\n",
    "\n",
    "\n",
    "# rearrange the adjacency matrix according to the topological order\n",
    "order_adjacency_matrix = Adj_matrix_df.loc[topological_order, topological_order]\n",
    "print(f\"order_adjacency_matrix:\\n {order_adjacency_matrix},\\n type(order_adjacency_matrix):{type(order_adjacency_matrix)}\")"
   ]
  }
 ],
 "metadata": {
  "kernelspec": {
   "display_name": "python3_12",
   "language": "python",
   "name": "python3"
  },
  "language_info": {
   "codemirror_mode": {
    "name": "ipython",
    "version": 3
   },
   "file_extension": ".py",
   "mimetype": "text/x-python",
   "name": "python",
   "nbconvert_exporter": "python",
   "pygments_lexer": "ipython3",
   "version": "3.12.5"
  }
 },
 "nbformat": 4,
 "nbformat_minor": 5
}
